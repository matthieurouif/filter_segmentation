{
 "cells": [
  {
   "cell_type": "code",
   "execution_count": 1,
   "metadata": {},
   "outputs": [],
   "source": [
    "import matplotlib\n",
    "import numpy as np\n",
    "import PIL\n",
    "import matplotlib.pyplot as plt\n",
    "import matplotlib.image as mpimg\n",
    "import coremltools\n",
    "from pycoreimage.pyci import cimg, show, color, inset"
   ]
  },
  {
   "cell_type": "code",
   "execution_count": 2,
   "metadata": {},
   "outputs": [
    {
     "data": {
      "text/html": [
       "<style>.container { width: 90% : important; }</style>"
      ],
      "text/plain": [
       "<IPython.core.display.HTML object>"
      ]
     },
     "metadata": {},
     "output_type": "display_data"
    }
   ],
   "source": [
    "%matplotlib inline\n",
    "matplotlib.rcParams['figure.figsize'] = [30,30]\n",
    "from IPython.core.display import display, HTML\n",
    "display(HTML(\"<style>.container { width: 90% : important; }</style>\"))\n",
    "from ipywidgets import interact, interactive, fixed, interact_manual\n",
    "import ipywidgets as widgets"
   ]
  },
  {
   "cell_type": "code",
   "execution_count": 8,
   "metadata": {},
   "outputs": [],
   "source": [
    "# print(cimg.inputs('CICMYKHalftone'))\n",
    "# for i,f in enumerate(cimg.filters()):\n",
    "#     print('{:3d}\\t {}'.format(i,f))"
   ]
  },
  {
   "cell_type": "code",
   "execution_count": 9,
   "metadata": {},
   "outputs": [],
   "source": [
    "model = coremltools.models.MLModel('models/DeepLab.mlmodel')\n",
    "labels = ['Background','Plane','Bicycle','Bird','Boat','Bottle','Bus','Car','Cat','Chair','Cow','Diningtable','Dog','Horse','Motorbike','Person','Pottedplant','Sheep','Sofa','Train','Tvmonitor']\n",
    "dictionary = {'Background':0,'Plane':1,'Bicycle':2,'Bird':3,'Boat':4,'Bottle':5,'Bus':6,'Car':7,'Cat':8,'Chair':9,'Cow':10,'Diningtable':11,'Dog':12,'Horse':13,'Motorbike':14,'Person':15,'Pottedplant':16,'Sheep':17,'Sofa':18,'Train':19,'Tvmonitor':20}\n",
    "spec = model._spec\n",
    "input_width = spec.description.input[0].type.imageType.width\n",
    "input_height = spec.description.input[0].type.imageType.height\n",
    "\n",
    "# TODO: import random image from unsplash\n",
    "img = PIL.Image.open('samples/people_woman_2.jpg')\n",
    "image_width = np.array(img).shape[1]\n",
    "image_height = np.array(img).shape[0]\n",
    "resized_img = img.resize((input_width, input_height), PIL.Image.BILINEAR)\n",
    "y = model.predict({\"image\": resized_img}, usesCPUOnly=False)\n",
    "mask = y['scores']\n",
    "\n",
    "scale_width = image_width/input_width\n",
    "scale_height = image_height/input_height\n",
    "ci_mask_resized = cimg(np.array(mask)).scale(scale_width,scale_height)\n",
    "ci_fg = cimg(np.array(img))\n",
    "ci_bg = cimg(np.array(img))\n",
    "\n",
    "src = \"\"\" kernel vec4 color(__sample img, __sample mask, float index) {\n",
    "    vec4 pixValue;\n",
    "    pixValue.r = pixValue.g = pixValue.b = pixValue.a = 0;\n",
    "    if (mask.r >= index - 0.0039 && mask.r <= index + 0.0039){\n",
    "        pixValue.r = pixValue.g = pixValue.b = pixValue.a = 1;\n",
    "    }\n",
    "    return pixValue;\n",
    "}\"\"\"\n",
    "\n",
    "bilateral_filter = \"\"\" kernel vec4 bilateral(sampler u, sampler fg, float k, float colorInv, float spatialInv)\n",
    "{\n",
    "  vec2 dc = destCoord();\n",
    "  vec2 pu = samplerCoord(u);\n",
    "  vec2 uDelta = samplerTransform(u, dc+vec2(1.0)) - pu;\n",
    "  vec4 u_0 = sample(u, pu);\n",
    "\n",
    "  vec2 pfg = samplerCoord(fg);\n",
    "  vec2 fgDelta = samplerTransform(fg, dc+vec2(1.0)) - pfg;\n",
    "  vec4 fg_0 = sample(fg, pfg);\n",
    "\n",
    "  vec4 C = vec4(0.0);\n",
    "  float W = 0.0;\n",
    "  for (float x = -k; x <= k; x++) {\n",
    "    for (float y = -k; y <= k; y++){\n",
    "      float ws = exp(-(x*x+y*y) * spatialInv);\n",
    "      vec4 u_xy  = sample(u, pu + vec2(x,y)*uDelta);\n",
    "      vec4 fg_xy  = sample(fg, pfg + vec2(x,y)*fgDelta);\n",
    "      vec3 diff = fg_xy.rgb-fg_0.rgb;\n",
    "      float wc = exp(-dot(diff,diff) * colorInv);\n",
    "      W += ws * wc;\n",
    "      C += ws * wc * u_xy;\n",
    "    }\n",
    "  }\n",
    "  return W < 0.0001 ? u_0 : C / W;  \n",
    "}\n",
    "\"\"\""
   ]
  },
  {
   "cell_type": "code",
   "execution_count": 10,
   "metadata": {},
   "outputs": [],
   "source": [
    "indexValue = dictionary['Person']*12/255.0\n",
    "ci_mask_blured = ci_mask_resized.applyKernel(bilateral_filter, ci_fg, 10, 2000,0.001)\n",
    "# show([result])"
   ]
  },
  {
   "cell_type": "markdown",
   "metadata": {},
   "source": [
    "## Highlight Template"
   ]
  },
  {
   "cell_type": "code",
   "execution_count": null,
   "metadata": {},
   "outputs": [],
   "source": []
  },
  {
   "cell_type": "markdown",
   "metadata": {},
   "source": [
    "## Color Highlight"
   ]
  },
  {
   "cell_type": "code",
   "execution_count": 6,
   "metadata": {},
   "outputs": [
    {
     "data": {
      "application/vnd.jupyter.widget-view+json": {
       "model_id": "7885099645024dcc863527de92bc0a02",
       "version_major": 2,
       "version_minor": 0
      },
      "text/plain": [
       "interactive(children=(FloatSlider(value=0.7, description='contrast', max=2.0, step=0.05), FloatSlider(value=0.…"
      ]
     },
     "metadata": {},
     "output_type": "display_data"
    }
   ],
   "source": [
    "# print(cimg.inputs('gaussianBlur'))\n",
    "def color(img, mask, contrast, saturation):\n",
    "    ci_fg = img.colorControls(contrast=1.2, saturation = 1.2)\n",
    "    ci_bg = img.colorControls(contrast=contrast, saturation = saturation)\n",
    "    output = ci_fg.blendWithMask(backgroundImage=ci_bg, maskImage=ci_mask_blured)\n",
    "    return output\n",
    "    \n",
    "def show_color(image, mask, contrast, saturation):\n",
    "    output = color(image, mask, contrast, saturation)\n",
    "    show(output)\n",
    "    \n",
    "interact(show_color, image = fixed(ci_bg), \n",
    "         mask = fixed(ci_mask_blured), \n",
    "         contrast=widgets.FloatSlider(min=0,max=2,step=0.05,value=0.7),\n",
    "        saturation=widgets.FloatSlider(min=0,max=2,step=0.05,value=0.7));"
   ]
  },
  {
   "cell_type": "markdown",
   "metadata": {},
   "source": [
    "## Bokeh Blur Hilight"
   ]
  },
  {
   "cell_type": "code",
   "execution_count": 7,
   "metadata": {},
   "outputs": [
    {
     "data": {
      "application/vnd.jupyter.widget-view+json": {
       "model_id": "119e9b378c224bd491e38f88265506c4",
       "version_major": 2,
       "version_minor": 0
      },
      "text/plain": [
       "interactive(children=(IntSlider(value=10, description='radius', max=30, min=1), Output()), _dom_classes=('widg…"
      ]
     },
     "metadata": {},
     "output_type": "display_data"
    }
   ],
   "source": [
    "# print(cimg.inputs('gaussianBlur'))\n",
    "def bokeh(img, mask, radius):\n",
    "    ci_fg = img\n",
    "    ci_bg = img.gaussianBlur(radius=radius)\n",
    "    output = ci_fg.blendWithMask(backgroundImage=ci_bg, maskImage=ci_mask_blured)\n",
    "    return output\n",
    "    \n",
    "def show_bokeh(image, mask, radius):\n",
    "    output = bokeh(image, mask, radius)\n",
    "    show(output)\n",
    "    \n",
    "interact(show_bokeh, image = fixed(ci_bg), \n",
    "         mask = fixed(ci_mask_blured), \n",
    "         radius=widgets.IntSlider(min=1,max=30,step=1,value=10));"
   ]
  },
  {
   "cell_type": "code",
   "execution_count": null,
   "metadata": {},
   "outputs": [],
   "source": []
  }
 ],
 "metadata": {
  "kernelspec": {
   "display_name": "Python 3",
   "language": "python",
   "name": "python3"
  },
  "language_info": {
   "codemirror_mode": {
    "name": "ipython",
    "version": 3
   },
   "file_extension": ".py",
   "mimetype": "text/x-python",
   "name": "python",
   "nbconvert_exporter": "python",
   "pygments_lexer": "ipython3",
   "version": "3.6.6"
  }
 },
 "nbformat": 4,
 "nbformat_minor": 2
}
